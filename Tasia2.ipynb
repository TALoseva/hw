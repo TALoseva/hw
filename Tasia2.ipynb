{
  "nbformat": 4,
  "nbformat_minor": 0,
  "metadata": {
    "colab": {
      "provenance": [],
      "authorship_tag": "ABX9TyOz58WKvcOObsUrFBAAgIqP",
      "include_colab_link": true
    },
    "kernelspec": {
      "name": "python3",
      "display_name": "Python 3"
    },
    "language_info": {
      "name": "python"
    }
  },
  "cells": [
    {
      "cell_type": "markdown",
      "metadata": {
        "id": "view-in-github",
        "colab_type": "text"
      },
      "source": [
        "<a href=\"https://colab.research.google.com/github/TALoseva/hw/blob/main/Tasia2.ipynb\" target=\"_parent\"><img src=\"https://colab.research.google.com/assets/colab-badge.svg\" alt=\"Open In Colab\"/></a>"
      ]
    },
    {
      "cell_type": "code",
      "execution_count": null,
      "metadata": {
        "id": "6hc0uXINl3uW"
      },
      "outputs": [],
      "source": [
        "Вариант 17"
      ]
    },
    {
      "cell_type": "markdown",
      "source": [
        "1. Классы и объекты (стр 13).\n",
        "Определите класс CurrencyRate с полями название валюты, код валюты и обменный курс. Реализуйте методы update_rate(new_rate), который обновляет обменный курс, и display_info(), который выводит информацию о валюте."
      ],
      "metadata": {
        "id": "cdBrXbBTnF4i"
      }
    },
    {
      "cell_type": "code",
      "source": [
        "class CurrencyRate:\n",
        "    def __init__(self, currency_name, currency_cod, exchange_rate):\n",
        "        self.currency_name = currency_name\n",
        "        self.currency_cod = currency_cod\n",
        "        self.exchange_rate = exchange_rate\n",
        "\n",
        "    def update_rate(self, new_rate):\n",
        "      self.exchange_rate = new_rate\n",
        "    def display_info(self):\n",
        "        print(f\"Название валюты: {self.currency_name}, Код валюты: {self.currency_cod}, Обменный курс: {self.exchange_rate}\")\n",
        "\n",
        "if __name__ == \"__main__\":\n",
        "    usd = CurrencyRate(\"Доллар США\", \"USD\", 75.0)\n",
        "    usd.display_info()\n",
        "    usd.update_rate(76.5)\n",
        "    print(\"\\nПосле обновления курса:\")\n",
        "    usd.display_info()"
      ],
      "metadata": {
        "id": "qGzXxZserrs1"
      },
      "execution_count": null,
      "outputs": []
    },
    {
      "cell_type": "markdown",
      "source": [
        "2. Наследование (стр 22).\n",
        "Определите класс CurrencyRate, который наследуется от класса Document. Класс CurrencyRate должен добавлять поле код валюты и методы для обновления обменного курса и отображения информации о валюте."
      ],
      "metadata": {
        "id": "0LxIil6UsnY3"
      }
    },
    {
      "cell_type": "code",
      "source": [
        "class CurrencyRate:\n",
        "  def __init__(self, currency_name, currency_cod, exchange_rate):\n",
        "    self.currency_name = currency_name\n",
        "    self.currency_cod = currency_cod\n",
        "    self.exchange_rate = exchange_rate\n",
        "  def display_info(self):\n",
        "        print(f\"Название валюты: {self.currency_name}, Код валюты: {self.currency_cod}, Обменный курс: {self.exchange_rate}\")\n",
        "\n",
        "class Document(CurrencyRate):\n",
        "  def __init__(self, currency_name, currency_cod, exchange_rate):\n",
        "    self.currency_name = currency_name\n",
        "    self.currency_cod = currency_cod\n",
        "    self.exchange_rate = exchange_rate\n",
        "\n",
        "  def update_rate(self, new_rate):\n",
        "      self.exchange_rate = new_rate\n",
        "  def display_info(self):\n",
        "      print(f\"Название валюты: {self.currency_name}, Код валюты: {self.currency_cod}, Обменный курс: {self.exchange_rate}\")\n",
        "\n",
        "if __name__ == \"__main__\":\n",
        "    usd = CurrencyRate(\"Доллар США\", \"USD\", 75.0)\n",
        "    usd.display_info()\n",
        "    usd.update_rate(76.5)\n",
        "    print(\"\\nПосле обновления курса:\")\n",
        "    usd.display_info()"
      ],
      "metadata": {
        "id": "2wKa0LIutSt4"
      },
      "execution_count": null,
      "outputs": []
    },
    {
      "cell_type": "markdown",
      "source": [
        "3. Инкапсуляция (стр 31).\n",
        "Создать класс CurrencyRate, у которого поля currencyName, currencyCode и exchangeRate будут приватными. Реализовать методы для безопасного изменения обменного курса и доступа к информации о валюте."
      ],
      "metadata": {
        "id": "_hpUSEMN1A_5"
      }
    },
    {
      "cell_type": "code",
      "source": [
        "class CurrencyRate:\n",
        "  def __init__(self, currency_name, currency_cod, exchange_rate, currency_info):\n",
        "    self.currency_name = currency_name\n",
        "    self.currency_cod = currency_cod\n",
        "    self.exchange_rate = exchange_rate\n",
        "\n",
        "  #Методы доступа\n",
        "  def get_currency_name(self):\n",
        "    return self.__currency_name\n",
        "\n",
        "  def get_currency_cod(self):\n",
        "    return self.__currency_cod\n",
        "\n",
        "  def get_exchange_rate(self):\n",
        "    return self.__exchange_rate\n",
        "\n",
        "  def get_currency_info(self):\n",
        "    return self._currency_info\n",
        "\n",
        "  # Методы изменения\n",
        "def set_exchange_rate(self, new_exchange_rate):\n",
        "        self._exchange_rate = new_exchange_rate\n",
        "def set_currency_info(self, new_currency_info):\n",
        "        self._currency_info = new_currency_info\n",
        "\n",
        "if __name__ == \"__main__\":\n",
        "    currency = CurrencyRate(\"Доллар\", \"США\", 75.0)\n",
        "\n",
        "    print(\"Name:\", emp.get_name())\n",
        "    print(\"Currency_cod:\", emp.get_currency_cod())\n",
        "    #print(\"Exchange_rate:\", emp.get_exchange_rate())\n",
        "\n",
        "    emp.set_exchange_rate(-5)\n",
        "    emp.set_currency_info()\n",
        "\n",
        "    print(\"Exchange_rate:\", emp.set_exchange_rate())\n",
        "    print(\"Currency_info:\", emp.set_currency_info())\n"
      ],
      "metadata": {
        "id": "cArKinBr2Dtu"
      },
      "execution_count": null,
      "outputs": []
    },
    {
      "cell_type": "markdown",
      "source": [
        "4. Композиция и агрегация (стр 41).\n",
        "Издательство и журнал. Создайте класс `Издательство`, которое издает журналы. Класс `Журнал` должен содержать поле `название`. Журнал не может существовать вне издательства."
      ],
      "metadata": {
        "id": "1cccB3Mnayna"
      }
    },
    {
      "cell_type": "code",
      "source": [
        "class Izdatelstvo:\n",
        "    def __init__(self, name):\n",
        "        self.name = name  # Название издательства\n",
        "        self.journals = []  # Список журналов\n",
        "\n",
        "    def publish_journal(self, title):\n",
        "        \"\"\"Издать новый журнал\"\"\"\n",
        "        new_journal = self.Zhurnal(title, self)\n",
        "        self.journals.append(new_journal)\n",
        "        return new_journal\n",
        "\n",
        "    def print_info(self):\n",
        "        \"\"\"Вывести информацию об издательстве и его журналах\"\"\"\n",
        "        print(f\"Издательство: {self.name}\")\n",
        "        print(\"Список журналов:\")\n",
        "        for journal in self.journals:\n",
        "            print(f\"- {journal.title}\")\n",
        "\n",
        "    class Zhurnal:\n",
        "        def __init__(self, title, izdatelstvo):\n",
        "            if izdatelstvo is None:\n",
        "                raise ValueError(\"Журнал должен принадлежать издательству.\")\n",
        "            self.title = title  # Название журнала\n",
        "            self.izdatelstvo = izdatelstvo  # Издательство, которому принадлежит журнал\n",
        "\n",
        "# Пример использования\n",
        "\n",
        "# Создаем издательство\n",
        "izdatelstvo = Izdatelstvo(\"Научное Издательство\")\n",
        "\n",
        "# Издаем журналы\n",
        "journal1 = izdatelstvo.publish_journal(\"Наука и жизнь\")\n",
        "journal2 = izdatelstvo.publish_journal(\"Технологии будущего\")\n",
        "\n",
        "# Выводим информацию об издательстве и журналах\n",
        "izdatelstvo.print_info()\n",
        "\n"
      ],
      "metadata": {
        "id": "61FPfTNba4eZ"
      },
      "execution_count": null,
      "outputs": []
    },
    {
      "cell_type": "markdown",
      "source": [
        "Агрегация (стр 51).\n",
        "Концерт и музыкальная группа. Постройте класс `Концерт`, в котором могут выступать музыкальные группы. У класса `Музыкальная группа` есть поля `название` и `жанр`. Группы могут существовать независимо от концерта."
      ],
      "metadata": {
        "id": "p9luGhNMeNfl"
      }
    },
    {
      "cell_type": "code",
      "source": [
        "class Conzert:\n",
        "  def __init__(self, name, genre):\n",
        "        self.name = name    # Название группы\n",
        "        self.genre = genre    # Жанр группы\n",
        "\n",
        "    def get_name(self):\n",
        "        return self.name\n",
        "    def get_genre(self):\n",
        "        return self.genre\n",
        "\n",
        "    def display_info(self):\n",
        "        print(f\"Название группы: {self.name}, Жанр группы: {self.genre}\")\n",
        "class Group:\n",
        "  def __init__(self):\n",
        "        self.groups = []  # Список групп\n",
        "\n",
        "    def add_group(self, group):\n",
        "        self.groups.append(group)\n",
        "\n",
        "    def display_groups(self):\n",
        "        print(\"Список групп в концерте:\")\n",
        "        for group in self.groups:\n",
        "            group.display_info()\n",
        "# Пример использования\n",
        "if __name__ == \"__main__\":\n",
        "    # Создание групп\n",
        "    group1 = Group(\"Иван\", 20)\n",
        "    group2 = Group(\"Мария\", 22)\n",
        "    group3 = Group(\"Алексей\", 21)\n",
        "\n",
        "    # Создание концерта и добавление групп\n",
        "    conzert1 = Conzert()\n",
        "    conzert1.add_group(group1)\n",
        "    conzert1.add_group(group2)\n",
        "    conzert1.add_group(group3)\n",
        "\n",
        "    # Вывод списка групп в концерте\n",
        "    conzert1.display_groups()\n",
        "\n"
      ],
      "metadata": {
        "id": "5fiMJ_wzew4x"
      },
      "execution_count": null,
      "outputs": []
    },
    {
      "cell_type": "markdown",
      "source": [
        "5. Абстрактные классы (стр 59)\n",
        "Определить абстрактный класс Room с абстрактными методами calculateArea() и paint(). Реализовать подклассы LivingRoom и Bedroom, которые реализуют методы calculateArea() и paint()."
      ],
      "metadata": {
        "id": "1hBsyf4Yig4U"
      }
    },
    {
      "cell_type": "code",
      "source": [
        "from abc import ABC, abstractmethod\n",
        "\n",
        "# Абстрактный класс Room\n",
        "class Room(ABC):\n",
        "    @abstractmethod\n",
        "    def calculateArea(self):\n",
        "        pass  # Абстрактный метод\n",
        "\n",
        "    @abstractmethod\n",
        "    def paint(self):\n",
        "        pass  # Абстрактный метод\n",
        "\n",
        "# Подкласс LivingRoom\n",
        "class LivingRoom(Room):\n",
        "    def calculateArea(self):\n",
        "        print(30)  # Реализация метода calculateArea\n",
        "\n",
        "    def paint(self):\n",
        "        print(\"Изобразить\")  # Реализация метода paint\n",
        "# Подкласс Bedroom\n",
        "class Bedroom(Room):\n",
        "    def calculateArea(self):\n",
        "        print(15)  # Реализация метода calculateArea\n",
        "\n",
        "    def paint(self):\n",
        "        print(\"Изобразить\")  # Реализация метода paint\n",
        "\n",
        "# Пример использования\n",
        "if __name__ == \"__main__\":\n",
        "    livingRoom = LivingRoom()\n",
        "    bedroom = Bedroom()\n",
        "\n",
        "    livingRoom.calculateArea()\n",
        "    livingRoom.paint()\n",
        "\n",
        "    bedroom.calculateArea()\n",
        "    bedroom.paint()\n"
      ],
      "metadata": {
        "id": "NhVnu7KGioU8"
      },
      "execution_count": null,
      "outputs": []
    },
    {
      "cell_type": "markdown",
      "source": [
        "6. Интерфейсы (стр 67).\n",
        "Создать интерфейс ICurrencyRate, который содержит методы updateExchangeRate(double rate) и getRateInfo(). Создать класс CurrencyRate, реализующий этот интерфейс. Класс должен содержать поля currencyName, currencyCode и exchangeRate.\n",
        "\n",
        "---\n",
        "\n"
      ],
      "metadata": {
        "id": "6LUoST8ykxan"
      }
    },
    {
      "cell_type": "code",
      "source": [
        "# Интерфейс ICurrencyRate\n",
        "from abc import ABC, abstractmethod\n",
        "\n",
        "class ICurrencyRate(ABC):\n",
        "    @abstractmethod\n",
        "    def updateExchangeRate(self, double rate):\n",
        "        pass\n",
        "\n",
        "    @abstractmethod\n",
        "    def getRateInfo(self):\n",
        "        pass\n",
        "\n",
        "# Класс CurrencyRate, реализующий интерфейс ICurrencyRate\n",
        "class CurrencyRate(ICurrencyRate):\n",
        "    def __init__(self, currencyName, currencyCode, exchangeRate):\n",
        "        self.currencyName = currencyName\n",
        "        self.currencyCode = currencyCode\n",
        "        self.exchangeRate = exchangeRate\n",
        "\n",
        "    # Реализация метода get_updateExchangeRate\n",
        "    def get_updateExchangeRate(self, double rate):\n",
        "        return self.updateExchangeRate\n",
        "\n",
        "    # Реализация метода get_getRateInfo\n",
        "    def get_getRateInfo(self):\n",
        "        return self.getRateInfo\n",
        "\n",
        "    # Метод для отображения информации о человеке\n",
        "    def display_info(self):\n",
        "        print(f\"CurrencyName: {self.currencyName}, CurrencyCode: {self.currencyCode}, ExchangeRate: {self.exchangeRate}\")\n",
        "\n",
        "# Пример использования\n",
        "currencyRate = CurrencyRate(\"Доллар\", \"США\", 75.0)\n",
        "currencyRate.display_info()\n",
        "\n"
      ],
      "metadata": {
        "id": "8e0oAynnk6O6"
      },
      "execution_count": null,
      "outputs": []
    },
    {
      "cell_type": "markdown",
      "source": [
        "7. Полиморфизм (стр 82).\n",
        "Определите метод convertCurrency() в классе CurrencyRate, который будет выполнять конвертацию валюты. Создайте подклассы CryptoCurrencyRate и FiatCurrencyRate, которые будут переопределять этот метод для различных типов валют."
      ],
      "metadata": {
        "id": "VxSDU_fCnyHB"
      }
    },
    {
      "cell_type": "code",
      "source": [
        "from abc import ABC, abstractmethod\n",
        "\n",
        "# Определяем интерфейс\n",
        "class CurrencyRate(ABC):\n",
        "    @abstractmethod\n",
        "    def convert_currency(self):\n",
        "        pass\n",
        "\n",
        "# Класс CryptoCurrencyRate\n",
        "class CryptoCurrencyRate(CurrencyRate):\n",
        "    def __init__(self, name, sum1):\n",
        "        self.name = name\n",
        "        self.sum1 = sum1\n",
        "\n",
        "    def convert_currency(self):\n",
        "        return f'Name: {self.name}, Position: CryptoCurrencyRate, Sum: {self.sum}'\n",
        "# Класс FiatCurrencyRate\n",
        "class FiatCurrencyRate(CurrencyRate):\n",
        "    def __init__(self, name, sum2):\n",
        "        self.name = name\n",
        "        self.sum2 = sum2\n",
        "\n",
        "    def convertCurrency(self):\n",
        "        return f'Name: {self.name}, Position: FiatCurrencyRate, Sum: {self.sum2}'\n",
        "\n",
        "# Функция, принимающая объект CurrencyRate\n",
        "def print_currencyRate_currency(currencyRate: CurrencyRate):\n",
        "    print(currencyRate.get_details())\n",
        "\n",
        "# Пример использования\n",
        "if __name__ == \"__main__\":\n",
        "    cryptoCurrencyRate = CryptoCurrencyRate(\"Alice\", 5)\n",
        "    fiatCurrencyRate = FiatCurrencyRate(\"Bob\", \"Python\")\n",
        "\n",
        "    print_currencyRate_currency(cryptoCurrencyRate)\n",
        "    print_currencyRate_currency(fiatCurrencyRate)\n"
      ],
      "metadata": {
        "id": "6ZZhzgZCoCiW"
      },
      "execution_count": null,
      "outputs": []
    }
  ]
}