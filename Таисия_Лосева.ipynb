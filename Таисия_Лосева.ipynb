{
  "nbformat": 4,
  "nbformat_minor": 0,
  "metadata": {
    "colab": {
      "provenance": [],
      "authorship_tag": "ABX9TyP7W9GDoEJcMKP0GTKT5IWN",
      "include_colab_link": true
    },
    "kernelspec": {
      "name": "python3",
      "display_name": "Python 3"
    },
    "language_info": {
      "name": "python"
    }
  },
  "cells": [
    {
      "cell_type": "markdown",
      "metadata": {
        "id": "view-in-github",
        "colab_type": "text"
      },
      "source": [
        "<a href=\"https://colab.research.google.com/github/TALoseva/hw/blob/main/%D0%A2%D0%B0%D0%B8%D1%81%D0%B8%D1%8F_%D0%9B%D0%BE%D1%81%D0%B5%D0%B2%D0%B0.ipynb\" target=\"_parent\"><img src=\"https://colab.research.google.com/assets/colab-badge.svg\" alt=\"Open In Colab\"/></a>"
      ]
    },
    {
      "cell_type": "markdown",
      "source": [
        "Задание 1 (стр 35)"
      ],
      "metadata": {
        "id": "Ch3wkGuttUgD"
      }
    },
    {
      "cell_type": "code",
      "execution_count": null,
      "metadata": {
        "id": "Ix1u79ZIr-6K"
      },
      "outputs": [],
      "source": [
        "z = 1\n",
        "t = ((4*z - 4)**2)/(4 - 8*z + 8*z**2)\n",
        "print(\"Значение t: \", t)"
      ]
    },
    {
      "cell_type": "markdown",
      "source": [
        "Задание 2"
      ],
      "metadata": {
        "id": "DRE5opydtRPE"
      }
    },
    {
      "cell_type": "code",
      "source": [
        "import math\n",
        "def calculate_w(x):\n",
        "  if x<=0:\n",
        "    ln_x = math.log(x)\n",
        "    w = (ln_x ** 2) / (1 + ln_x ** 2)\n",
        "    return w\n",
        "x = 2\n",
        "result = calculate_w(x)\n",
        "print(f\"Значение w для x = {x}: {result}\")"
      ],
      "metadata": {
        "id": "cYKVUZQitPOs"
      },
      "execution_count": null,
      "outputs": []
    },
    {
      "cell_type": "markdown",
      "source": [
        "Задание 3"
      ],
      "metadata": {
        "id": "XnGpXO1LvIzj"
      }
    },
    {
      "cell_type": "code",
      "source": [
        "x = int(input())\n",
        "t = (-2*x + 3*x**2 - 4*x**3)\n",
        "w = (1 + 2*x + 3*x**2 + 4*x**3)\n",
        "print(f\"Значение 1: \", t, \"Значение 2: \", w)"
      ],
      "metadata": {
        "id": "laLnTJKzvMHi"
      },
      "execution_count": null,
      "outputs": []
    },
    {
      "cell_type": "markdown",
      "source": [
        "Задание 4"
      ],
      "metadata": {
        "id": "c2PSJ9XhwdwL"
      }
    },
    {
      "cell_type": "code",
      "source": [
        "def full_hours_passed(N):\n",
        "  hours = N//3600\n",
        "  return hours\n",
        "N = int(input())\n",
        "result = full_hours_passed(N)\n",
        "print(f\"Количество полных часов, прошедших с начала суток: {result}\")"
      ],
      "metadata": {
        "id": "vwcKrzT5wfzW"
      },
      "execution_count": null,
      "outputs": []
    },
    {
      "cell_type": "markdown",
      "source": [
        "Задание 5"
      ],
      "metadata": {
        "id": "TYPpXRs0xz-N"
      }
    },
    {
      "cell_type": "code",
      "source": [
        "def are_odd(A, B):\n",
        "  return A % 2 != 0 and B % 2 != 0\n",
        "A = int(input())\n",
        "B = int(input())\n",
        "if are_odd(A, B):\n",
        "  print(\"Каждое из чисел А и В нечетное.\")\n",
        "else:\n",
        "  print(\"Хотя бы одно из чисел А или В четное или оба четные.\")"
      ],
      "metadata": {
        "id": "FhPDIQ2px2DB"
      },
      "execution_count": null,
      "outputs": []
    },
    {
      "cell_type": "markdown",
      "source": [
        "Задание 1 (стр 86)"
      ],
      "metadata": {
        "id": "gLSvRWZB92VN"
      }
    },
    {
      "cell_type": "code",
      "source": [
        "x =  float(input())\n",
        "def f(x):\n",
        "  if x>3:\n",
        "    return 1.2 * x**2 - 3 * x - 9\n",
        "  else:\n",
        "    return12.1 / (2 * x**2 + 1)\n",
        "result = f(x)\n",
        "print(f\"Значение функции f({x})} = {result}\")"
      ],
      "metadata": {
        "id": "bKWUSCA3-HEG"
      },
      "execution_count": null,
      "outputs": []
    },
    {
      "cell_type": "markdown",
      "source": [
        "Задание 2"
      ],
      "metadata": {
        "id": "6x9iUgR_mBYX"
      }
    },
    {
      "cell_type": "code",
      "source": [
        "m = float(input(\"Введите число m: \"))\n",
        "n = float(input(\"Введите число n: \"))\n",
        "p = float(input(\"Введите число p: \"))\n",
        "\n",
        "count = 0\n",
        "\n",
        "if m % 1 == 0:\n",
        "    count += 1\n",
        "if n % 1 == 0:\n",
        "    count += 1\n",
        "if p % 1 == 0:\n",
        "    count += 1\n",
        "\n",
        "print(\"Количество целых чисел среди m, n и p:\", count)"
      ],
      "metadata": {
        "id": "h273WWB_mDYb"
      },
      "execution_count": null,
      "outputs": []
    },
    {
      "cell_type": "markdown",
      "source": [
        "Задание 3"
      ],
      "metadata": {
        "id": "8bgYqYkPm1Bx"
      }
    },
    {
      "cell_type": "code",
      "source": [
        "A = int(input(\"Введите первое целое число A: \"))\n",
        "B = int(input(\"Введите второе целое число B: \"))\n",
        "\n",
        "if A + B > 32767:\n",
        "    print(\"Переполнение: сумма A и B превышает 32767.\")\n",
        "else:\n",
        "    print(f\"Сумма A и B: {A + B}\")"
      ],
      "metadata": {
        "id": "H6nz5uNem327"
      },
      "execution_count": null,
      "outputs": []
    },
    {
      "cell_type": "markdown",
      "source": [
        "Задание 4"
      ],
      "metadata": {
        "id": "E63RNOiCnScT"
      }
    },
    {
      "cell_type": "code",
      "source": [
        "number = int(input(\"Введите двузначное число: \"))\n",
        "\n",
        "if 10 <= number <= 99:\n",
        "    first_number = number // 10\n",
        "    second_number = number % 10\n",
        "\n",
        "    if first_number > second_number:\n",
        "        print(f\"Первая цифра ({first_number}) больше второй цифры ({second_number}).\")\n",
        "    elif first_number < second_number:\n",
        "        print(f\"Вторая цифра ({second_number}) больше первой цифры ({first_number}).\")\n",
        "    else:\n",
        "        print(f\"Цифры одинаковы.\")\n",
        "\n",
        "    if first_number == second_number:\n",
        "        print(f\"Цифры одинаковы.\")\n",
        "    else:\n",
        "        print(f\"Цифры разные.\")\n",
        "else:\n",
        "    print(f\"Ошибка: введенное число не является двузначным.\")"
      ],
      "metadata": {
        "id": "RSnZVA13nuCx"
      },
      "execution_count": null,
      "outputs": []
    },
    {
      "cell_type": "markdown",
      "source": [
        "Задание 5"
      ],
      "metadata": {
        "id": "3jg-eGm1oaN-"
      }
    },
    {
      "cell_type": "code",
      "source": [
        "def is_under_attack_queen(c, d, e, f):\n",
        "    # Проверка, находится ли поле (e, f) под атакой черной ферзя (c, d)\n",
        "    return (c == e) or (d == f) or (abs(c - e) == abs(d - f))\n",
        "\n",
        "def is_under_attack_knight(c, d, e, f):\n",
        "    # Проверка, находится ли поле (e, f) под атакой черного коня (c, d)\n",
        "    knight_moves = [(2, 1), (2, -1), (-2, 1), (-2, -1),\n",
        "                    (1, 2), (1, -2), (-1, 2), (-1, -2)]\n",
        "    for move in knight_moves:\n",
        "        if (c + move[0] == e) and (d + move[1] == f):\n",
        "            return True\n",
        "    return False\n",
        "\n",
        "def can_move_queen(a, b, c, d, e, f):\n",
        "    # Проверка, может ли белая ферзь (a, b) пойти на (e, f)\n",
        "    if (a == e) or (b == f) or (abs(a - e) == abs(b - f)):  # Белая ферзь может двигаться\n",
        "        if not is_under_attack_queen(c, d, e, f):\n",
        "            return True\n",
        "    return False\n",
        "\n",
        "def can_move_knight(a, b, c, d, e, f):\n",
        "    # Проверка, может ли белый конь (a, b) пойти на (e, f)\n",
        "    knight_moves = [(2, 1), (2, -1), (-2, 1), (-2, -1),\n",
        "                    (1, 2), (1, -2), (-1, 2), (-1, -2)]\n",
        "    for move in knight_moves:\n",
        "        if (a + move[0] == e) and (b + move[1] == f):\n",
        "            if not is_under_attack_knight(c, d, e, f):\n",
        "                return True\n",
        "    return False\n",
        "\n",
        "# Ввод данных\n",
        "a = int(input(\"Введите номер вертикали белой фигуры (1-8): \"))\n",
        "b = int(input(\"Введите номер горизонтали белой фигуры (1-8): \"))\n",
        "c = int(input(\"Введите номер вертикали черной фигуры (1-8): \"))\n",
        "d = int(input(\"Введите номер горизонтали черной фигуры (1-8): \"))\n",
        "e = int(input(\"Введите номер вертикали для движения белой фигуры (1-8): \"))\n",
        "f = int(input(\"Введите номер горизонтали для движения белой фигуры (1-8): \"))\n",
        "\n",
        "# Определяем тип фигур\n",
        "white_piece = input(\"Введите тип белой фигуры (ферзь/конь): \").strip().lower()\n",
        "black_piece = input(\"Введите тип черной фигуры (ферзь/слон/конь): \").strip().lower()\n",
        "\n",
        "# Проверка возможности движения\n",
        "if white_piece == \"ферзь\":\n",
        "    if can_move_queen(a, b, c, d, e, f):\n",
        "        print(\"Белая ферзь может пойти на поле ({}, {}) без угрозы со стороны черной фигуры.\".format(e, f))\n",
        "    else:\n",
        "        print(\"Белая ферзь не может пойти на поле ({}, {}) без угрозы со стороны черной фигуры.\".format(e, f))\n",
        "elif white_piece == \"конь\":\n",
        "    if can_move_knight(a, b, c, d, e, f):\n",
        "        print(\"Белый конь может пойти на поле ({}, {}) без угрозы со стороны черной фигуры.\".format(e, f))\n",
        "    else:\n",
        "        print(\"Белый конь не может пойти на поле ({}, {}) без угрозы со стороны черной фигуры.\".format(e, f))\n",
        "else:\n",
        "    print(\"Неизвестный тип белой фигуры.\")"
      ],
      "metadata": {
        "id": "ncDRbsWkoeH3"
      },
      "execution_count": null,
      "outputs": []
    },
    {
      "cell_type": "markdown",
      "source": [
        "Задание 1 (стр 144)"
      ],
      "metadata": {
        "id": "eHgU0CZlqXJW"
      }
    },
    {
      "cell_type": "code",
      "source": [
        "initial_amibas = 1\n",
        "\n",
        "results = []\n",
        "\n",
        "for hours in range(3, 25, 3):\n",
        "    number_of_amibas = initial_amibas * (2 ** (hours // 3))\n",
        "    results.append((hours, number_of_amibas))\n",
        "for hours, count in results:\n",
        "    print(f\"Через {hours} часов будет {count} амеб.\")"
      ],
      "metadata": {
        "id": "ZX33e3sAqrIA"
      },
      "execution_count": null,
      "outputs": []
    },
    {
      "cell_type": "markdown",
      "source": [
        "Задание 2"
      ],
      "metadata": {
        "id": "TXun7umBrx6q"
      }
    },
    {
      "cell_type": "code",
      "source": [
        "def product_of_fractions(n):\n",
        "    if n < 1:\n",
        "        return \"N должно быть натуральным числом.\"\n",
        "\n",
        "    product = 1\n",
        "    for i in range(1, n + 1):\n",
        "        numerator = 2 * i\n",
        "        denominator = 2 * i + 1\n",
        "        product *= numerator / denominator\n",
        "\n",
        "    return product\n",
        "\n",
        "N = int(input(\"Введите натуральное число N: \"))\n",
        "result = product_of_fractions(N)\n",
        "print(f\"Произведение первых {N} сомножителей равно: {result}\")"
      ],
      "metadata": {
        "id": "-QaokDM3suz-"
      },
      "execution_count": null,
      "outputs": []
    },
    {
      "cell_type": "markdown",
      "source": [
        "Задание 3"
      ],
      "metadata": {
        "id": "eHxknSoMtWC8"
      }
    },
    {
      "cell_type": "code",
      "source": [
        "def sum_series(epsilon):\n",
        "    n = 1\n",
        "    sum = 0\n",
        "    current_term = (2 * n - 1) / (2 ** n)\n",
        "\n",
        "    while abs(current_term) >= epsilon:\n",
        "        sum += current_term\n",
        "        n += 1\n",
        "        current_term = (2 * n - 1) / (2 ** n)\n",
        "\n",
        "    return sum\n",
        "\n",
        "epsilon = 10 ** (-3)\n",
        "result = sum_series(epsilon)\n",
        "print(f\"Сумма ряда с точностью ε={epsilon}: {result}\")"
      ],
      "metadata": {
        "id": "LPgT-rfQtbYe"
      },
      "execution_count": null,
      "outputs": []
    },
    {
      "cell_type": "markdown",
      "source": [
        "Задание 4"
      ],
      "metadata": {
        "id": "7boOlyLKuHK-"
      }
    },
    {
      "cell_type": "code",
      "source": [
        "def insert_and_sort(B, numbers):\n",
        "    result = []\n",
        "\n",
        "    index_B = False\n",
        "\n",
        "    for number in numbers:\n",
        "        # Вставляем B перед первым элементом, который больше B\n",
        "        if not index_B and number > B:\n",
        "            result.append(B)\n",
        "            index_B = True\n",
        "        result.append(number)\n",
        "\n",
        "    # Если B не был вставлен, добавляем его в конец\n",
        "    if not index_B:\n",
        "        result.append(B)\n",
        "\n",
        "    return result\n",
        "\n",
        "B = float(input(\"Введите вещественное число B: \"))\n",
        "N = int(input(\"Введите целое число N: \"))\n",
        "numbers = []\n",
        "\n",
        "print(f\"Введите {N} упорядоченных по возрастанию вещественных чисел:\")\n",
        "for _ in range(N):\n",
        "    numbers.append(float(input()))\n",
        "\n",
        "sorted_result = insert_and_sort(B, numbers)\n",
        "\n",
        "print(\"Результат:\", sorted_result)"
      ],
      "metadata": {
        "id": "PAYkwwl_uK-3"
      },
      "execution_count": null,
      "outputs": []
    },
    {
      "cell_type": "markdown",
      "source": [
        "Задание 1 (стр 168)"
      ],
      "metadata": {
        "id": "dhF3zYoEwQkR"
      }
    },
    {
      "cell_type": "code",
      "source": [
        "def product_of_three_numbers(n):\n",
        "    k = 1\n",
        "    while True:\n",
        "        product = k * (k + 1) * (k + 2)\n",
        "        if product == n:\n",
        "            return True\n",
        "        elif product > n:\n",
        "            return False\n",
        "        k += 1\n",
        "\n",
        "n = int(input(\"Введите натуральное число n: \"))\n",
        "\n",
        "if product_of_three_numbers(n):\n",
        "    print(f\"{n} можно представить в виде произведения трех последовательных натуральных чисел.\")\n",
        "else:\n",
        "    print(f\"{n} нельзя представить в виде произведения трех последовательных натуральных чисел.\")"
      ],
      "metadata": {
        "id": "3NqCPsLwwU_a"
      },
      "execution_count": null,
      "outputs": []
    },
    {
      "cell_type": "markdown",
      "source": [
        "Задание 2"
      ],
      "metadata": {
        "id": "rznwl192aqAH"
      }
    },
    {
      "cell_type": "code",
      "source": [
        "def calculate_area(X, Y):\n",
        "    area = 0.5 * X * Y\n",
        "    return area\n",
        "\n",
        "X = float(input(\"Введите длину стороны X: \"))\n",
        "Y = float(input(\"Введите длину стороны Y: \"))\n",
        "Z = float(input(\"Введите длину стороны Z: \"))\n",
        "T = float(input(\"Введите длину стороны T: \"))\n",
        "\n",
        "area = calculate_area(X, Y)\n",
        "\n",
        "print(f\"Площадь четырехугольника с заданными сторонами равна: {area}\")"
      ],
      "metadata": {
        "id": "8G7qnTUiavp9"
      },
      "execution_count": null,
      "outputs": []
    },
    {
      "cell_type": "markdown",
      "source": [
        "Задание 3"
      ],
      "metadata": {
        "id": "SpREDxyZbneo"
      }
    },
    {
      "cell_type": "code",
      "source": [
        "def food_on_birthday(n):\n",
        "    # для первых двух дней рождения\n",
        "    if n == 1 or n == 2:\n",
        "        return 100\n",
        "    else:\n",
        "        food = [0] * (n + 1)\n",
        "        food[1] = 100\n",
        "        food[2] = 100\n",
        "\n",
        "        # Вычисляем количество пищи на каждом дне рождения\n",
        "        for i in range(3, n + 1):\n",
        "            food[i] = food[i - 1] + food[i - 2]\n",
        "\n",
        "        return food[n]\n",
        "\n",
        "# Определяем номер дня рождения\n",
        "birthday_number = 15\n",
        "food_amount = food_on_birthday(birthday_number)\n",
        "\n",
        "# Переводим в килограммы\n",
        "food_in_kg = food_amount / 1000\n",
        "\n",
        "print(f\"На {birthday_number}-ом дне рождения Винни Пух съест {food_in_kg:.2f} кг пищи.\")"
      ],
      "metadata": {
        "id": "Cv12pOyFbpZk"
      },
      "execution_count": null,
      "outputs": []
    }
  ]
}